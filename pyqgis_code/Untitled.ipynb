{
 "cells": [
  {
   "cell_type": "code",
   "execution_count": 1,
   "id": "8770e7a0",
   "metadata": {},
   "outputs": [
    {
     "ename": "NameError",
     "evalue": "name 'ROW_COUNT' is not defined",
     "output_type": "error",
     "traceback": [
      "\u001b[1;31m---------------------------------------------------------------------------\u001b[0m",
      "\u001b[1;31mNameError\u001b[0m                                 Traceback (most recent call last)",
      "Input \u001b[1;32mIn [1]\u001b[0m, in \u001b[0;36m<cell line: 1>\u001b[1;34m()\u001b[0m\n\u001b[1;32m----> 1\u001b[0m grid \u001b[38;5;241m=\u001b[39m [[{\u001b[38;5;124m'\u001b[39m\u001b[38;5;124mmine\u001b[39m\u001b[38;5;124m'\u001b[39m: \u001b[38;5;28;01mFalse\u001b[39;00m, \u001b[38;5;124m'\u001b[39m\u001b[38;5;124mopen\u001b[39m\u001b[38;5;124m'\u001b[39m: \u001b[38;5;28;01mFalse\u001b[39;00m, \u001b[38;5;124m'\u001b[39m\u001b[38;5;124mmine_count_around\u001b[39m\u001b[38;5;124m'\u001b[39m: \u001b[38;5;241m0\u001b[39m, \u001b[38;5;124m'\u001b[39m\u001b[38;5;124mflag\u001b[39m\u001b[38;5;124m'\u001b[39m: \u001b[38;5;28;01mFalse\u001b[39;00m} \u001b[38;5;28;01mfor\u001b[39;00m _ \u001b[38;5;129;01min\u001b[39;00m \u001b[38;5;28mrange\u001b[39m(COLUMN_COUNT)] \u001b[38;5;28;01mfor\u001b[39;00m _ \u001b[38;5;129;01min\u001b[39;00m \u001b[38;5;28mrange\u001b[39m(\u001b[43mROW_COUNT\u001b[49m)]\n\u001b[0;32m      2\u001b[0m MINE_COUNT \u001b[38;5;241m=\u001b[39m \u001b[38;5;241m15\u001b[39m\n\u001b[0;32m      3\u001b[0m \u001b[38;5;28;01mfor\u001b[39;00m _ \u001b[38;5;129;01min\u001b[39;00m \u001b[38;5;28mrange\u001b[39m(MINE_COUNT):\n",
      "\u001b[1;31mNameError\u001b[0m: name 'ROW_COUNT' is not defined"
     ]
    }
   ],
   "source": [
    "grid = [[{'mine': False, 'open': False, 'mine_count_around': 0, 'flag': False} for _ in range(COLUMN_COUNT)] for _ in range(ROW_COUNT)]\n",
    "MINE_COUNT = 15\n",
    "for _ in range(MINE_COUNT):\n",
    "    while True:\n",
    "        column_index = random.randint(0, COLUMN_COUNT - 1)\n",
    "        row_index = random.randint(0, ROW_COUNT - 1)\n",
    "        tile = grid[row_index][column_index]\n",
    "        if not tile['mine']:\n",
    "            tile['mine'] = True \n",
    "            break\n"
   ]
  },
  {
   "cell_type": "code",
   "execution_count": 2,
   "id": "d3444d7e",
   "metadata": {},
   "outputs": [],
   "source": [
    "def in_bound(column_index, row_index):\n",
    "    if (0 <= column_index < COLUMN_COUNT and 0 <= row_index < ROW_COUNT):\n",
    "        return True\n",
    "    else:\n",
    "        return False\n",
    " \n",
    "def open_tile(column_index, row_index): \n",
    "    if not in_bound(column_index, row_index):\n",
    "        return\n",
    " \n",
    "    tile = grid[row_index][column_index]\n",
    "    if not tile['open']:\n",
    "        tile['open'] = True\n",
    "    else:    \n",
    "        return\n",
    " \n",
    "    if tile['mine']:\n",
    "        return\n",
    " \n",
    "    mine_count_around = get_mine_count_around(column_index, row_index)\n",
    "    if mine_count_around > 0:\n",
    "        tile['mine_count_around'] = mine_count_around\n",
    "    else:\n",
    "        for dc, dr in [(0, 1), (0, -1), (1, 0), (-1, 0), (1, 1), (1, -1), (-1, 1), (-1, -1)]:\n",
    "            column_index_around, row_index_around = (column_index + dc, row_index + dr)\n",
    "            open_tile(column_index_around, row_index_around)\n",
    " \n",
    "def get_mine_count_around(column_index, row_index):\n",
    "    count = 0\n",
    " \n",
    "    for dc, dr in [(0, 1), (0, -1), (1, 0), (-1, 0), (1, 1), (1, -1), (-1, 1), (-1, -1)]:\n",
    "        column_index_around, row_index_around = (column_index + dc, row_index + dr)\n",
    "        if in_bound(column_index_around, row_index_around) and grid[row_index_around][column_index_around]['mine']:\n",
    "            count += 1\n",
    "    return count\n"
   ]
  },
  {
   "cell_type": "code",
   "execution_count": null,
   "id": "943fe535",
   "metadata": {},
   "outputs": [],
   "source": []
  }
 ],
 "metadata": {
  "kernelspec": {
   "display_name": "Python 3 (ipykernel)",
   "language": "python",
   "name": "python3"
  },
  "language_info": {
   "codemirror_mode": {
    "name": "ipython",
    "version": 3
   },
   "file_extension": ".py",
   "mimetype": "text/x-python",
   "name": "python",
   "nbconvert_exporter": "python",
   "pygments_lexer": "ipython3",
   "version": "3.9.12"
  }
 },
 "nbformat": 4,
 "nbformat_minor": 5
}
